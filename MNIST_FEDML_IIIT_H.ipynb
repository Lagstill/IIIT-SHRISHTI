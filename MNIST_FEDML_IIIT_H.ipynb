{
  "nbformat": 4,
  "nbformat_minor": 0,
  "metadata": {
    "colab": {
      "name": "MNIST_FEDML_IIIT-H.ipynb",
      "provenance": [],
      "collapsed_sections": [
        "Z1lMY3X0K2b-",
        "ozLr34HlKcBI",
        "FWUsk__QK9oT",
        "3w3yEbxDLZNG",
        "jV3jOloDMA6d",
        "lYlcqDvzPkcJ",
        "vWCpRHi-RnM1",
        "qUUoSCBVSNi8",
        "Oq1-1Ksnp4pO",
        "JptX4Q2GrVd6"
      ]
    },
    "kernelspec": {
      "name": "python3",
      "display_name": "Python 3"
    },
    "language_info": {
      "name": "python"
    }
  },
  "cells": [
    {
      "cell_type": "markdown",
      "source": [
        "## $\\color{teal}{\\text{Install syft for virtual workers}}$"
      ],
      "metadata": {
        "id": "Z1lMY3X0K2b-"
      }
    },
    {
      "cell_type": "code",
      "source": [
        "pip install syft==0.2.9 --user"
      ],
      "metadata": {
        "colab": {
          "base_uri": "https://localhost:8080/",
          "height": 1000
        },
        "id": "f2CVPbi8JhPt",
        "outputId": "c82d8343-963b-444a-b1f9-2037202e3da3"
      },
      "execution_count": null,
      "outputs": [
        {
          "output_type": "stream",
          "name": "stdout",
          "text": [
            "Collecting syft==0.2.9\n",
            "  Downloading syft-0.2.9-py3-none-any.whl (433 kB)\n",
            "\u001b[K     |████████████████████████████████| 433 kB 5.2 MB/s \n",
            "\u001b[?25hCollecting torchvision~=0.5.0\n",
            "  Downloading torchvision-0.5.0-cp37-cp37m-manylinux1_x86_64.whl (4.0 MB)\n",
            "\u001b[K     |████████████████████████████████| 4.0 MB 36.7 MB/s \n",
            "\u001b[?25hCollecting requests-toolbelt==0.9.1\n",
            "  Downloading requests_toolbelt-0.9.1-py2.py3-none-any.whl (54 kB)\n",
            "\u001b[K     |████████████████████████████████| 54 kB 2.5 MB/s \n",
            "\u001b[?25hCollecting torch~=1.4.0\n",
            "  Downloading torch-1.4.0-cp37-cp37m-manylinux1_x86_64.whl (753.4 MB)\n",
            "\u001b[K     |████████████████████████████████| 753.4 MB 6.8 kB/s \n",
            "\u001b[?25hCollecting RestrictedPython~=5.0\n",
            "  Downloading RestrictedPython-5.2-py2.py3-none-any.whl (28 kB)\n",
            "Collecting tblib~=1.6.0\n",
            "  Downloading tblib-1.6.0-py2.py3-none-any.whl (12 kB)\n",
            "Collecting phe~=1.4.0\n",
            "  Downloading phe-1.4.0.tar.gz (35 kB)\n",
            "Requirement already satisfied: Flask~=1.1.1 in /usr/local/lib/python3.7/dist-packages (from syft==0.2.9) (1.1.4)\n",
            "Collecting importlib-resources~=1.5.0\n",
            "  Downloading importlib_resources-1.5.0-py2.py3-none-any.whl (21 kB)\n",
            "Collecting websocket-client~=0.57.0\n",
            "  Downloading websocket_client-0.57.0-py2.py3-none-any.whl (200 kB)\n",
            "\u001b[K     |████████████████████████████████| 200 kB 25.0 MB/s \n",
            "\u001b[?25hCollecting lz4~=3.0.2\n",
            "  Downloading lz4-3.0.2-cp37-cp37m-manylinux2010_x86_64.whl (1.8 MB)\n",
            "\u001b[K     |████████████████████████████████| 1.8 MB 36.7 MB/s \n",
            "\u001b[?25hRequirement already satisfied: scipy~=1.4.1 in /usr/local/lib/python3.7/dist-packages (from syft==0.2.9) (1.4.1)\n",
            "Collecting notebook==5.7.8\n",
            "  Downloading notebook-5.7.8-py2.py3-none-any.whl (9.0 MB)\n",
            "\u001b[K     |████████████████████████████████| 9.0 MB 18.6 MB/s \n",
            "\u001b[?25hCollecting syft-proto~=0.5.2\n",
            "  Downloading syft_proto-0.5.3-py3-none-any.whl (66 kB)\n",
            "\u001b[K     |████████████████████████████████| 66 kB 3.6 MB/s \n",
            "\u001b[?25hCollecting shaloop==0.2.1-alpha.11\n",
            "  Downloading shaloop-0.2.1_alpha.11-py3-none-manylinux1_x86_64.whl (126 kB)\n",
            "\u001b[K     |████████████████████████████████| 126 kB 50.5 MB/s \n",
            "\u001b[?25hCollecting tornado==4.5.3\n",
            "  Downloading tornado-4.5.3.tar.gz (484 kB)\n",
            "\u001b[K     |████████████████████████████████| 484 kB 46.7 MB/s \n",
            "\u001b[?25hCollecting psutil==5.7.0\n",
            "  Downloading psutil-5.7.0.tar.gz (449 kB)\n",
            "\u001b[K     |████████████████████████████████| 449 kB 42.6 MB/s \n",
            "\u001b[?25hCollecting requests~=2.22.0\n",
            "  Downloading requests-2.22.0-py2.py3-none-any.whl (57 kB)\n",
            "\u001b[K     |████████████████████████████████| 57 kB 5.3 MB/s \n",
            "\u001b[?25hCollecting aiortc==0.9.28\n",
            "  Downloading aiortc-0.9.28-cp37-cp37m-manylinux2010_x86_64.whl (2.0 MB)\n",
            "\u001b[K     |████████████████████████████████| 2.0 MB 32.8 MB/s \n",
            "\u001b[?25hCollecting numpy~=1.18.1\n",
            "  Downloading numpy-1.18.5-cp37-cp37m-manylinux1_x86_64.whl (20.1 MB)\n",
            "\u001b[K     |████████████████████████████████| 20.1 MB 1.4 MB/s \n",
            "\u001b[?25hCollecting websockets~=8.1.0\n",
            "  Downloading websockets-8.1-cp37-cp37m-manylinux2010_x86_64.whl (79 kB)\n",
            "\u001b[K     |████████████████████████████████| 79 kB 7.7 MB/s \n",
            "\u001b[?25hCollecting openmined.threepio==0.2.0\n",
            "  Downloading openmined.threepio-0.2.0.tar.gz (73 kB)\n",
            "\u001b[K     |████████████████████████████████| 73 kB 2.1 MB/s \n",
            "\u001b[?25hRequirement already satisfied: msgpack~=1.0.0 in /usr/local/lib/python3.7/dist-packages (from syft==0.2.9) (1.0.3)\n",
            "Collecting flask-socketio~=4.2.1\n",
            "  Downloading Flask_SocketIO-4.2.1-py2.py3-none-any.whl (16 kB)\n",
            "Requirement already satisfied: Pillow>=7.1.0 in /usr/local/lib/python3.7/dist-packages (from syft==0.2.9) (7.1.2)\n",
            "Requirement already satisfied: dill~=0.3.1 in /usr/local/lib/python3.7/dist-packages (from syft==0.2.9) (0.3.4)\n",
            "Collecting aioice<0.7.0,>=0.6.17\n",
            "  Downloading aioice-0.6.18-py3-none-any.whl (19 kB)\n",
            "Collecting crc32c\n",
            "  Downloading crc32c-2.2.post0-cp37-cp37m-manylinux2010_x86_64.whl (49 kB)\n",
            "\u001b[K     |████████████████████████████████| 49 kB 5.0 MB/s \n",
            "\u001b[?25hRequirement already satisfied: cffi>=1.0.0 in /usr/local/lib/python3.7/dist-packages (from aiortc==0.9.28->syft==0.2.9) (1.15.0)\n",
            "Collecting pyee>=6.0.0\n",
            "  Downloading pyee-9.0.4-py2.py3-none-any.whl (14 kB)\n",
            "Collecting av<9.0.0,>=8.0.0\n",
            "  Downloading av-8.1.0-cp37-cp37m-manylinux_2_17_x86_64.manylinux2014_x86_64.whl (36.1 MB)\n",
            "\u001b[K     |████████████████████████████████| 36.1 MB 300 kB/s \n",
            "\u001b[?25hCollecting pylibsrtp>=0.5.6\n",
            "  Downloading pylibsrtp-0.7.1-cp37-cp37m-manylinux_2_17_x86_64.manylinux2014_x86_64.whl (71 kB)\n",
            "\u001b[K     |████████████████████████████████| 71 kB 7.7 MB/s \n",
            "\u001b[?25hCollecting cryptography>=2.2\n",
            "  Downloading cryptography-37.0.2-cp36-abi3-manylinux_2_24_x86_64.whl (4.0 MB)\n",
            "\u001b[K     |████████████████████████████████| 4.0 MB 39.9 MB/s \n",
            "\u001b[?25hRequirement already satisfied: nbconvert in /usr/local/lib/python3.7/dist-packages (from notebook==5.7.8->syft==0.2.9) (5.6.1)\n",
            "Requirement already satisfied: ipykernel in /usr/local/lib/python3.7/dist-packages (from notebook==5.7.8->syft==0.2.9) (4.10.1)\n",
            "Requirement already satisfied: terminado>=0.8.1 in /usr/local/lib/python3.7/dist-packages (from notebook==5.7.8->syft==0.2.9) (0.13.3)\n",
            "Requirement already satisfied: pyzmq>=17 in /usr/local/lib/python3.7/dist-packages (from notebook==5.7.8->syft==0.2.9) (22.3.0)\n",
            "Requirement already satisfied: jinja2 in /usr/local/lib/python3.7/dist-packages (from notebook==5.7.8->syft==0.2.9) (2.11.3)\n",
            "Requirement already satisfied: Send2Trash in /usr/local/lib/python3.7/dist-packages (from notebook==5.7.8->syft==0.2.9) (1.8.0)\n",
            "Requirement already satisfied: prometheus-client in /usr/local/lib/python3.7/dist-packages (from notebook==5.7.8->syft==0.2.9) (0.14.1)\n",
            "Requirement already satisfied: traitlets>=4.2.1 in /usr/local/lib/python3.7/dist-packages (from notebook==5.7.8->syft==0.2.9) (5.1.1)\n",
            "Requirement already satisfied: nbformat in /usr/local/lib/python3.7/dist-packages (from notebook==5.7.8->syft==0.2.9) (5.3.0)\n",
            "Requirement already satisfied: ipython-genutils in /usr/local/lib/python3.7/dist-packages (from notebook==5.7.8->syft==0.2.9) (0.2.0)\n",
            "Requirement already satisfied: jupyter-client>=5.2.0 in /usr/local/lib/python3.7/dist-packages (from notebook==5.7.8->syft==0.2.9) (5.3.5)\n",
            "Requirement already satisfied: jupyter-core>=4.4.0 in /usr/local/lib/python3.7/dist-packages (from notebook==5.7.8->syft==0.2.9) (4.10.0)\n",
            "Requirement already satisfied: pycparser>=2 in /usr/local/lib/python3.7/dist-packages (from shaloop==0.2.1-alpha.11->syft==0.2.9) (2.21)\n",
            "Collecting netifaces\n",
            "  Downloading netifaces-0.11.0-cp37-cp37m-manylinux_2_5_x86_64.manylinux1_x86_64.whl (32 kB)\n",
            "Requirement already satisfied: Werkzeug<2.0,>=0.15 in /usr/local/lib/python3.7/dist-packages (from Flask~=1.1.1->syft==0.2.9) (1.0.1)\n",
            "Requirement already satisfied: itsdangerous<2.0,>=0.24 in /usr/local/lib/python3.7/dist-packages (from Flask~=1.1.1->syft==0.2.9) (1.1.0)\n",
            "Requirement already satisfied: click<8.0,>=5.1 in /usr/local/lib/python3.7/dist-packages (from Flask~=1.1.1->syft==0.2.9) (7.1.2)\n",
            "Collecting python-socketio>=4.3.0\n",
            "  Downloading python_socketio-5.6.0-py3-none-any.whl (56 kB)\n",
            "\u001b[K     |████████████████████████████████| 56 kB 4.0 MB/s \n",
            "\u001b[?25hRequirement already satisfied: zipp>=0.4 in /usr/local/lib/python3.7/dist-packages (from importlib-resources~=1.5.0->syft==0.2.9) (3.8.0)\n",
            "Requirement already satisfied: importlib-metadata in /usr/local/lib/python3.7/dist-packages (from importlib-resources~=1.5.0->syft==0.2.9) (4.11.3)\n",
            "Requirement already satisfied: MarkupSafe>=0.23 in /usr/local/lib/python3.7/dist-packages (from jinja2->notebook==5.7.8->syft==0.2.9) (2.0.1)\n",
            "Requirement already satisfied: python-dateutil>=2.1 in /usr/local/lib/python3.7/dist-packages (from jupyter-client>=5.2.0->notebook==5.7.8->syft==0.2.9) (2.8.2)\n",
            "Requirement already satisfied: typing-extensions in /usr/local/lib/python3.7/dist-packages (from pyee>=6.0.0->aiortc==0.9.28->syft==0.2.9) (4.2.0)\n",
            "Requirement already satisfied: six>=1.5 in /usr/local/lib/python3.7/dist-packages (from python-dateutil>=2.1->jupyter-client>=5.2.0->notebook==5.7.8->syft==0.2.9) (1.15.0)\n",
            "Collecting python-engineio>=4.3.0\n",
            "  Downloading python_engineio-4.3.2-py3-none-any.whl (52 kB)\n",
            "\u001b[K     |████████████████████████████████| 52 kB 1.3 MB/s \n",
            "\u001b[?25hCollecting bidict>=0.21.0\n",
            "  Downloading bidict-0.22.0-py3-none-any.whl (36 kB)\n",
            "Requirement already satisfied: chardet<3.1.0,>=3.0.2 in /usr/local/lib/python3.7/dist-packages (from requests~=2.22.0->syft==0.2.9) (3.0.4)\n",
            "Requirement already satisfied: urllib3!=1.25.0,!=1.25.1,<1.26,>=1.21.1 in /usr/local/lib/python3.7/dist-packages (from requests~=2.22.0->syft==0.2.9) (1.24.3)\n",
            "Collecting idna<2.9,>=2.5\n",
            "  Downloading idna-2.8-py2.py3-none-any.whl (58 kB)\n",
            "\u001b[K     |████████████████████████████████| 58 kB 5.2 MB/s \n",
            "\u001b[?25hRequirement already satisfied: certifi>=2017.4.17 in /usr/local/lib/python3.7/dist-packages (from requests~=2.22.0->syft==0.2.9) (2021.10.8)\n",
            "Requirement already satisfied: protobuf>=3.12.2 in /usr/local/lib/python3.7/dist-packages (from syft-proto~=0.5.2->syft==0.2.9) (3.17.3)\n",
            "Requirement already satisfied: ptyprocess in /usr/local/lib/python3.7/dist-packages (from terminado>=0.8.1->notebook==5.7.8->syft==0.2.9) (0.7.0)\n",
            "Requirement already satisfied: ipython>=4.0.0 in /usr/local/lib/python3.7/dist-packages (from ipykernel->notebook==5.7.8->syft==0.2.9) (5.5.0)\n",
            "Requirement already satisfied: pexpect in /usr/local/lib/python3.7/dist-packages (from ipython>=4.0.0->ipykernel->notebook==5.7.8->syft==0.2.9) (4.8.0)\n",
            "Requirement already satisfied: setuptools>=18.5 in /usr/local/lib/python3.7/dist-packages (from ipython>=4.0.0->ipykernel->notebook==5.7.8->syft==0.2.9) (57.4.0)\n",
            "Requirement already satisfied: decorator in /usr/local/lib/python3.7/dist-packages (from ipython>=4.0.0->ipykernel->notebook==5.7.8->syft==0.2.9) (4.4.2)\n",
            "Requirement already satisfied: pickleshare in /usr/local/lib/python3.7/dist-packages (from ipython>=4.0.0->ipykernel->notebook==5.7.8->syft==0.2.9) (0.7.5)\n",
            "Requirement already satisfied: prompt-toolkit<2.0.0,>=1.0.4 in /usr/local/lib/python3.7/dist-packages (from ipython>=4.0.0->ipykernel->notebook==5.7.8->syft==0.2.9) (1.0.18)\n",
            "Requirement already satisfied: simplegeneric>0.8 in /usr/local/lib/python3.7/dist-packages (from ipython>=4.0.0->ipykernel->notebook==5.7.8->syft==0.2.9) (0.8.1)\n",
            "Requirement already satisfied: pygments in /usr/local/lib/python3.7/dist-packages (from ipython>=4.0.0->ipykernel->notebook==5.7.8->syft==0.2.9) (2.6.1)\n",
            "Requirement already satisfied: wcwidth in /usr/local/lib/python3.7/dist-packages (from prompt-toolkit<2.0.0,>=1.0.4->ipython>=4.0.0->ipykernel->notebook==5.7.8->syft==0.2.9) (0.2.5)\n",
            "Requirement already satisfied: pandocfilters>=1.4.1 in /usr/local/lib/python3.7/dist-packages (from nbconvert->notebook==5.7.8->syft==0.2.9) (1.5.0)\n",
            "Requirement already satisfied: mistune<2,>=0.8.1 in /usr/local/lib/python3.7/dist-packages (from nbconvert->notebook==5.7.8->syft==0.2.9) (0.8.4)\n",
            "Requirement already satisfied: bleach in /usr/local/lib/python3.7/dist-packages (from nbconvert->notebook==5.7.8->syft==0.2.9) (5.0.0)\n",
            "Requirement already satisfied: defusedxml in /usr/local/lib/python3.7/dist-packages (from nbconvert->notebook==5.7.8->syft==0.2.9) (0.7.1)\n",
            "Requirement already satisfied: entrypoints>=0.2.2 in /usr/local/lib/python3.7/dist-packages (from nbconvert->notebook==5.7.8->syft==0.2.9) (0.4)\n",
            "Requirement already satisfied: testpath in /usr/local/lib/python3.7/dist-packages (from nbconvert->notebook==5.7.8->syft==0.2.9) (0.6.0)\n",
            "Requirement already satisfied: jsonschema>=2.6 in /usr/local/lib/python3.7/dist-packages (from nbformat->notebook==5.7.8->syft==0.2.9) (4.3.3)\n",
            "Requirement already satisfied: fastjsonschema in /usr/local/lib/python3.7/dist-packages (from nbformat->notebook==5.7.8->syft==0.2.9) (2.15.3)\n",
            "Requirement already satisfied: attrs>=17.4.0 in /usr/local/lib/python3.7/dist-packages (from jsonschema>=2.6->nbformat->notebook==5.7.8->syft==0.2.9) (21.4.0)\n",
            "Requirement already satisfied: pyrsistent!=0.17.0,!=0.17.1,!=0.17.2,>=0.14.0 in /usr/local/lib/python3.7/dist-packages (from jsonschema>=2.6->nbformat->notebook==5.7.8->syft==0.2.9) (0.18.1)\n",
            "Requirement already satisfied: webencodings in /usr/local/lib/python3.7/dist-packages (from bleach->nbconvert->notebook==5.7.8->syft==0.2.9) (0.5.1)\n",
            "Building wheels for collected packages: openmined.threepio, psutil, tornado, phe\n",
            "  Building wheel for openmined.threepio (setup.py) ... \u001b[?25l\u001b[?25hdone\n",
            "  Created wheel for openmined.threepio: filename=openmined.threepio-0.2.0-py3-none-any.whl size=80094 sha256=9d2b92e4db0ecb2a39f1b7b34799e21e5a873683f59352b3f7943dde2ceacdca\n",
            "  Stored in directory: /root/.cache/pip/wheels/97/3d/ce/4ca4386006e622cb87d5116e5e65026ec021d3cf906a9b3d5d\n",
            "  Building wheel for psutil (setup.py) ... \u001b[?25l\u001b[?25hdone\n",
            "  Created wheel for psutil: filename=psutil-5.7.0-cp37-cp37m-linux_x86_64.whl size=276516 sha256=f08e65e3b21a58dc7359007374ab2f0df26e9e416c53b7f95309a6b208a3bda1\n",
            "  Stored in directory: /root/.cache/pip/wheels/b6/e7/50/aee9cc966163d74430f13f208171dee22f11efa4a4a826661c\n",
            "  Building wheel for tornado (setup.py) ... \u001b[?25l\u001b[?25hdone\n",
            "  Created wheel for tornado: filename=tornado-4.5.3-cp37-cp37m-linux_x86_64.whl size=434040 sha256=5bd4e94250f40661e65b335796636b3c1c1be0a19a93e741df5c7673a15f1234\n",
            "  Stored in directory: /root/.cache/pip/wheels/a2/45/43/36ec7a893e16c1212a6b1505ded0a2d73cf8e863a0227c8e04\n",
            "  Building wheel for phe (setup.py) ... \u001b[?25l\u001b[?25hdone\n",
            "  Created wheel for phe: filename=phe-1.4.0-py2.py3-none-any.whl size=37362 sha256=8791f57fe1df1abacfa7edb38b00d167e8c7c6622394a9e522c98a6fa5f29623\n",
            "  Stored in directory: /root/.cache/pip/wheels/bb/ac/9b/b07a04fe6bb1418ab4ee06d6652757aef848b80363c4dac507\n",
            "Successfully built openmined.threepio psutil tornado phe\n",
            "Installing collected packages: importlib-resources, tornado, python-engineio, netifaces, idna, bidict, torch, requests, python-socketio, pylibsrtp, pyee, numpy, cryptography, crc32c, av, aioice, websockets, websocket-client, torchvision, tblib, syft-proto, shaloop, RestrictedPython, requests-toolbelt, psutil, phe, openmined.threepio, notebook, lz4, flask-socketio, aiortc, syft\n",
            "\u001b[33m  WARNING: The scripts convert-caffe2-to-onnx and convert-onnx-to-caffe2 are installed in '/root/.local/bin' which is not on PATH.\n",
            "  Consider adding this directory to PATH or, if you prefer to suppress this warning, use --no-warn-script-location.\u001b[0m\n",
            "\u001b[33m  WARNING: The scripts f2py, f2py3 and f2py3.7 are installed in '/root/.local/bin' which is not on PATH.\n",
            "  Consider adding this directory to PATH or, if you prefer to suppress this warning, use --no-warn-script-location.\u001b[0m\n",
            "\u001b[33m  WARNING: The script pyav is installed in '/root/.local/bin' which is not on PATH.\n",
            "  Consider adding this directory to PATH or, if you prefer to suppress this warning, use --no-warn-script-location.\u001b[0m\n",
            "\u001b[33m  WARNING: The script pheutil is installed in '/root/.local/bin' which is not on PATH.\n",
            "  Consider adding this directory to PATH or, if you prefer to suppress this warning, use --no-warn-script-location.\u001b[0m\n",
            "\u001b[33m  WARNING: The scripts jupyter-bundlerextension, jupyter-nbextension, jupyter-notebook and jupyter-serverextension are installed in '/root/.local/bin' which is not on PATH.\n",
            "  Consider adding this directory to PATH or, if you prefer to suppress this warning, use --no-warn-script-location.\u001b[0m\n",
            "\u001b[31mERROR: pip's dependency resolver does not currently take into account all the packages that are installed. This behaviour is the source of the following dependency conflicts.\n",
            "tensorflow 2.8.0 requires tf-estimator-nightly==2.8.0.dev2021122109, which is not installed.\n",
            "torchtext 0.12.0 requires torch==1.11.0, but you have torch 1.4.0 which is incompatible.\n",
            "torchaudio 0.11.0+cu113 requires torch==1.11.0, but you have torch 1.4.0 which is incompatible.\n",
            "tensorflow 2.8.0 requires numpy>=1.20, but you have numpy 1.18.5 which is incompatible.\n",
            "tables 3.7.0 requires numpy>=1.19.0, but you have numpy 1.18.5 which is incompatible.\n",
            "jaxlib 0.3.7+cuda11.cudnn805 requires numpy>=1.19, but you have numpy 1.18.5 which is incompatible.\n",
            "jax 0.3.8 requires numpy>=1.19, but you have numpy 1.18.5 which is incompatible.\n",
            "google-colab 1.0.0 requires notebook~=5.3.0; python_version >= \"3.0\", but you have notebook 5.7.8 which is incompatible.\n",
            "google-colab 1.0.0 requires requests~=2.23.0, but you have requests 2.22.0 which is incompatible.\n",
            "google-colab 1.0.0 requires tornado~=5.1.0; python_version >= \"3.0\", but you have tornado 4.5.3 which is incompatible.\n",
            "datascience 0.10.6 requires folium==0.2.1, but you have folium 0.8.3 which is incompatible.\n",
            "bokeh 2.3.3 requires tornado>=5.1, but you have tornado 4.5.3 which is incompatible.\n",
            "albumentations 0.1.12 requires imgaug<0.2.7,>=0.2.5, but you have imgaug 0.2.9 which is incompatible.\u001b[0m\n",
            "Successfully installed RestrictedPython-5.2 aioice-0.6.18 aiortc-0.9.28 av-8.1.0 bidict-0.22.0 crc32c-2.2.post0 cryptography-37.0.2 flask-socketio-4.2.1 idna-2.8 importlib-resources-1.5.0 lz4-3.0.2 netifaces-0.11.0 notebook-5.7.8 numpy-1.18.5 openmined.threepio-0.2.0 phe-1.4.0 psutil-5.7.0 pyee-9.0.4 pylibsrtp-0.7.1 python-engineio-4.3.2 python-socketio-5.6.0 requests-2.22.0 requests-toolbelt-0.9.1 shaloop-0.2.1a11 syft-0.2.9 syft-proto-0.5.3 tblib-1.6.0 torch-1.4.0 torchvision-0.5.0 tornado-4.5.3 websocket-client-0.57.0 websockets-8.1\n"
          ]
        },
        {
          "output_type": "display_data",
          "data": {
            "application/vnd.colab-display-data+json": {
              "pip_warning": {
                "packages": [
                  "numpy",
                  "psutil",
                  "tornado"
                ]
              }
            }
          },
          "metadata": {}
        }
      ]
    },
    {
      "cell_type": "markdown",
      "source": [
        "## $\\color{teal}{\\text{Load the necessary libraries}}$"
      ],
      "metadata": {
        "id": "ozLr34HlKcBI"
      }
    },
    {
      "cell_type": "code",
      "execution_count": null,
      "metadata": {
        "id": "O5K4UQuzJUHL"
      },
      "outputs": [],
      "source": [
        "import sys\n",
        "import numpy as np\n",
        "import pandas as pd\n",
        "import matplotlib.pyplot as plt\n",
        "%matplotlib inline\n",
        "\n",
        "from scipy.io import loadmat\n",
        "\n",
        "import torch as th\n",
        "from torchvision import transforms\n",
        "import torchvision.datasets as datasets\n",
        "from torch.utils.data import Subset\n",
        "from torch import nn\n",
        "import torch.nn.functional as F\n",
        "from torch import optim\n",
        "import syft as sy\n",
        "import helper"
      ]
    },
    {
      "cell_type": "markdown",
      "source": [
        "## $\\color{teal}{\\text{ Hook PyTorch ie add extra functionalities to support Federated Learning}}$"
      ],
      "metadata": {
        "id": "FWUsk__QK9oT"
      }
    },
    {
      "cell_type": "code",
      "source": [
        "hook = sy.TorchHook(th)"
      ],
      "metadata": {
        "id": "3cqRbtB5Jp6g"
      },
      "execution_count": null,
      "outputs": []
    },
    {
      "cell_type": "markdown",
      "source": [
        "## $\\color{teal}{\\text{ Create virtual workers}}$"
      ],
      "metadata": {
        "id": "3w3yEbxDLZNG"
      }
    },
    {
      "cell_type": "code",
      "source": [
        "def create_workers():\n",
        "  workers = []\n",
        "  WORKER1 = sy.VirtualWorker(hook, id = \"WORKER1\")\n",
        "  workers.append(WORKER1)\n",
        "  WORKER2 = sy.VirtualWorker(hook, id = \"WORKER2\")\n",
        "  workers.append(WORKER2)\n",
        "  WORKER3 = sy.VirtualWorker(hook, id = \"WORKER3\")\n",
        "  workers.append(WORKER3)\n",
        "  WORKER4 = sy.VirtualWorker(hook, id = \"WORKER4\")\n",
        "  workers.append(WORKER4)\n",
        "  \n",
        "  return workers"
      ],
      "metadata": {
        "id": "2WXFbfwjKSWe"
      },
      "execution_count": null,
      "outputs": []
    },
    {
      "cell_type": "code",
      "source": [
        "def clear_workers(workers):\n",
        "  for worker in workers:\n",
        "    worker.clear_objects()"
      ],
      "metadata": {
        "id": "2jC2gvxTLdVM"
      },
      "execution_count": null,
      "outputs": []
    },
    {
      "cell_type": "markdown",
      "source": [
        "## $\\color{teal}{\\text{ Define the architechure}}$"
      ],
      "metadata": {
        "id": "jV3jOloDMA6d"
      }
    },
    {
      "cell_type": "code",
      "source": [
        "class Net(nn.Module):\n",
        "    def __init__(self):\n",
        "        super(Net, self).__init__()\n",
        "        self.conv1 = nn.Conv2d(1, 20, 5, 1)\n",
        "        self.conv2 = nn.Conv2d(20, 50, 5, 1)\n",
        "        self.fc1 = nn.Linear(4*4*50, 500)\n",
        "        self.fc2 = nn.Linear(500, 10)\n",
        "\n",
        "    def forward(self, x):\n",
        "        x = F.relu(self.conv1(x))\n",
        "        x = F.max_pool2d(x, 2, 2)\n",
        "        x = F.relu(self.conv2(x))\n",
        "        x = F.max_pool2d(x, 2, 2)\n",
        "        x = x.view(-1, 4*4*50)\n",
        "        x = F.relu(self.fc1(x))\n",
        "        x = self.fc2(x)\n",
        "        return F.log_softmax(x, dim=1)"
      ],
      "metadata": {
        "id": "PuOLKcDjL1wj"
      },
      "execution_count": null,
      "outputs": []
    },
    {
      "cell_type": "markdown",
      "source": [
        "## $\\color{teal}{\\text{Load the test and train dataset}}$"
      ],
      "metadata": {
        "id": "lYlcqDvzPkcJ"
      }
    },
    {
      "cell_type": "code",
      "source": [
        "batch_size_train = 64\n",
        "batch_size_test = 1000"
      ],
      "metadata": {
        "id": "AWhN_tNYOkkq"
      },
      "execution_count": null,
      "outputs": []
    },
    {
      "cell_type": "code",
      "metadata": {
        "id": "pTeFiGM4adIf"
      },
      "source": [
        "fmnist_trainset = th.utils.data.DataLoader(\n",
        " datasets.MNIST('/files/', train=True, download=True,\n",
        "                             transform=transforms.Compose([\n",
        "                               transforms.ToTensor(),\n",
        "                               transforms.Normalize(\n",
        "                                 (0.1307,), (0.3081,))\n",
        "                             ])),\n",
        "  batch_size=batch_size_train, shuffle=True)\n",
        "fmnist_testset = th.utils.data.DataLoader(\n",
        " datasets.MNIST('/files/', train=False, download=True,\n",
        "                             transform=transforms.Compose([\n",
        "                               transforms.ToTensor(),\n",
        "                               transforms.Normalize(\n",
        "                                 (0.1307,), (0.3081,))\n",
        "                             ])),\n",
        "  batch_size=batch_size_test, shuffle=True)"
      ],
      "execution_count": null,
      "outputs": []
    },
    {
      "cell_type": "code",
      "source": [
        "examples = enumerate(fmnist_testset)\n",
        "batch_idx, (example_data, example_targets) = next(examples)\n",
        "\n",
        "fig = plt.figure()\n",
        "for i in range(6):\n",
        "  plt.subplot(2,3,i+1)\n",
        "  plt.tight_layout()\n",
        "  plt.imshow(example_data[i][0], cmap='gray', interpolation='none')\n",
        "  plt.title(\"Ground Truth: {}\".format(example_targets[i]))\n",
        "  plt.xticks([])\n",
        "  plt.yticks([])\n",
        "fig"
      ],
      "metadata": {
        "colab": {
          "base_uri": "https://localhost:8080/",
          "height": 551
        },
        "id": "77jU-AW-Nw7-",
        "outputId": "8850cc25-c3b9-4366-c05c-97c310b2dbc6"
      },
      "execution_count": null,
      "outputs": [
        {
          "output_type": "execute_result",
          "data": {
            "text/plain": [
              "<Figure size 432x288 with 6 Axes>"
            ],
            "image/png": "[encoded data removed]"
          },
          "metadata": {},
          "execution_count": 33
        },
        {
          "output_type": "display_data",
          "data": {
            "text/plain": [
              "<Figure size 432x288 with 6 Axes>"
            ],
            "image/png": "[encoded data removed]"
          },
          "metadata": {}
        }
      ]
    },
    {
      "cell_type": "markdown",
      "source": [
        "## $\\color{teal}{\\text{Split the data to federated}}$"
      ],
      "metadata": {
        "id": "vWCpRHi-RnM1"
      }
    },
    {
      "cell_type": "code",
      "source": [
        "def refined_df(w, train_, test_):\n",
        "  fed_train_loader = sy.FederatedDataLoader(train_.federate(w), batch_size=32)\n",
        "  fed_test_loader = th.utils.data.DataLoader(test_, batch_size=64)\n",
        "  return fed_train_loader, fed_test_loader"
      ],
      "metadata": {
        "id": "atRMuW93Lrpn"
      },
      "execution_count": null,
      "outputs": []
    },
    {
      "cell_type": "markdown",
      "source": [
        "## $\\color{teal}{\\text{Federated workers and model}}$"
      ],
      "metadata": {
        "id": "qUUoSCBVSNi8"
      }
    },
    {
      "cell_type": "code",
      "source": [
        "def fed_ml(workers, loader, lr = 0.12, epoch = 5):\n",
        "  virtual_models, virtual_optimizers = create_models(workers, lr)\n",
        "  criterion = nn.NLLLoss()\n",
        "  for n in range(epoch):\n",
        "    i = 0\n",
        "    j = 0\n",
        "    count = 0\n",
        "    dbLoc = None\n",
        "    cum_loss = 0\n",
        "    for count_idx, (imgs, labels) in enumerate(loader):      \n",
        "      if i == 0:\n",
        "        i = 2\n",
        "        dbLoc = imgs.location        \n",
        "      if dbLoc is not imgs.location:#calculate loss\n",
        "        print(\"The total loss for {0} for epoch {2} is {1}\".format(workers[j].id, cum_loss / count, n+1))\n",
        "        dbLoc = imgs.location\n",
        "        j += 1             \n",
        "        cum_loss = 0 #new- worker\n",
        "        count = 0\n",
        "      virtual_optimizers[j].zero_grad()\n",
        "      output = virtual_models[j].forward(imgs)\n",
        "      loss = criterion(output, labels)\n",
        "      loss.backward()\n",
        "      virtual_optimizers[j].step()\n",
        "      cum_loss +=  loss.get().item()\n",
        "      count += 1\n",
        "    print(\"The total loss for {0} is {1}\".format(workers[j].id, cum_loss / count))\n",
        "  return virtual_models"
      ],
      "metadata": {
        "id": "eCV6JMG0QU4n"
      },
      "execution_count": null,
      "outputs": []
    },
    {
      "cell_type": "markdown",
      "source": [
        "## $\\color{teal}{\\text{Create models and distributed}}$"
      ],
      "metadata": {
        "id": "Oq1-1Ksnp4pO"
      }
    },
    {
      "cell_type": "code",
      "source": [
        "def create_models(workers, lr):\n",
        "  remoteModels = list()\n",
        "  remoteOptimizers = list()\n",
        "  for worker in workers:\n",
        "    model = Net()\n",
        "    model = model.send(worker)  #send data from one socket to another socket\n",
        "    remoteOptimizers.append(optim.SGD(model.parameters(), lr))\n",
        "    remoteModels.append(model)\n",
        "  return remoteModels, remoteOptimizers"
      ],
      "metadata": {
        "id": "s6LR6F50p8-Q"
      },
      "execution_count": null,
      "outputs": []
    },
    {
      "cell_type": "code",
      "source": [
        "def central_model(model):\n",
        "  return model.get()"
      ],
      "metadata": {
        "id": "ai6U-XiWqK-8"
      },
      "execution_count": null,
      "outputs": []
    },
    {
      "cell_type": "code",
      "source": [
        "def central_to_local(models, workers):\n",
        "  for model in models:\n",
        "    model.fc1.weight.data = model.fc1.weight.data.fix_prec().share(*workers)  #convert PyTorch Float tensors into Fixed Precision Tensors\n",
        "    model.fc1.bias.data = model.fc1.bias.data.fix_prec().share(*workers)\n",
        "    model.fc2.weight.data = model.fc2.weight.data.fix_prec().share(*workers)\n",
        "    model.fc2.bias.data = model.fc2.bias.data.fix_prec().share(*workers)\n",
        "    model.conv1.weight.data = model.conv1.weight.data.fix_prec().share(*workers)\n",
        "    model.conv1.bias.data = model.conv1.bias.data.fix_prec().share(*workers)\n",
        "    model.conv2.weight.data = model.conv2.weight.data.fix_prec().share(*workers)\n",
        "    model.conv2.bias.data = model.conv2.bias.data.fix_prec().share(*workers)\n",
        "  return models"
      ],
      "metadata": {
        "id": "xKnsX_x4qL4R"
      },
      "execution_count": null,
      "outputs": []
    },
    {
      "cell_type": "code",
      "source": [
        "def accumulate(models):\n",
        "  fc1_weight = list()\n",
        "  fc1_bias = list()\n",
        "  fc2_weight = list()\n",
        "  fc2_bias = list()\n",
        "  conv1_weight = list()\n",
        "  conv1_bias = list()\n",
        "  conv2_weight = list()\n",
        "  conv2_bias = list()\n",
        "  for model in models:\n",
        "    fc1_weight.append(model.fc1.weight.data.clone().get())\n",
        "    fc1_bias.append(model.fc1.bias.data.clone().get())\n",
        "    fc2_weight.append(model.fc2.weight.data.clone().get())\n",
        "    fc2_bias.append(model.fc2.bias.data.clone().get())\n",
        "    conv1_weight.append(model.conv1.weight.data.clone().get())\n",
        "    conv1_bias.append(model.conv1.bias.data.clone().get())\n",
        "    conv2_weight.append(model.conv2.weight.data.clone().get())\n",
        "    conv2_bias.append(model.conv2.bias.data.clone().get())\n",
        "  param = {}\n",
        "  param[\"fc1.weight\"] = (sum(fc1_weight) / len(fc1_weight)).get().float_prec()\n",
        "  param[\"fc1.bias\"] = (sum(fc1_bias) / len(fc1_bias)).get().float_prec()\n",
        "  param[\"fc2.weight\"] = (sum(fc2_weight) / len(fc2_weight)).get().float_prec()\n",
        "  param[\"fc2.bias\"] = (sum(fc2_bias) / len(fc2_bias)).get().float_prec()\n",
        "  param[\"conv1.weight\"] = (sum(conv1_weight) / len(conv1_weight)).get().float_prec()\n",
        "  param[\"conv1.bias\"] = (sum(conv1_bias) / len(conv1_bias)).get().float_prec()\n",
        "  param[\"conv2.weight\"] = (sum(conv2_weight) / len(conv2_weight)).get().float_prec()\n",
        "  param[\"conv2.bias\"] = (sum(conv2_bias) / len(conv2_bias)).get().float_prec()\n",
        "  return param"
      ],
      "metadata": {
        "id": "ysPM6ACEqRI0"
      },
      "execution_count": null,
      "outputs": []
    },
    {
      "cell_type": "code",
      "source": [
        "def update(param):\n",
        "  model = Net()\n",
        "  model.fc1.weight.data = param[\"fc1.weight\"]\n",
        "  model.fc1.bias.data = param[\"fc1.bias\"]\n",
        "  model.fc2.weight.data = param[\"fc2.weight\"]\n",
        "  model.fc2.bias.data = param[\"fc2.bias\"]\n",
        "  model.conv1.weight.data = param[\"conv1.weight\"]\n",
        "  model.conv1.bias.data = param[\"conv1.bias\"]\n",
        "  model.conv2.weight.data = param[\"conv2.weight\"]\n",
        "  model.conv2.bias.data = param[\"conv2.bias\"]  \n",
        "  return model"
      ],
      "metadata": {
        "id": "1Akkpm8DqTmK"
      },
      "execution_count": null,
      "outputs": []
    },
    {
      "cell_type": "markdown",
      "source": [
        "## $\\color{teal}{\\text{Working}}$"
      ],
      "metadata": {
        "id": "JptX4Q2GrVd6"
      }
    },
    {
      "cell_type": "code",
      "source": [
        "vm = create_workers()\n",
        "clear_workers(vm)"
      ],
      "metadata": {
        "id": "lBk7v5_jVNlu"
      },
      "execution_count": null,
      "outputs": []
    },
    {
      "cell_type": "code",
      "source": [
        "transform = transforms.Compose([transforms.ToTensor(),transforms.Normalize((0.5,), (0.5,))])\n",
        "\n",
        "fmnist_trainset = datasets.MNIST('../fashion_data', train=True, download=True, transform=transform)\n",
        "fmnist_testset = datasets.MNIST('../fashion_data', train=False, download=True, transform=transform)"
      ],
      "metadata": {
        "id": "ssxr1N9nVeJn"
      },
      "execution_count": null,
      "outputs": []
    },
    {
      "cell_type": "code",
      "source": [
        "f_train, f_test= refined_df(vm, fmnist_trainset, fmnist_testset)"
      ],
      "metadata": {
        "id": "DulTGgW1VRvj"
      },
      "execution_count": null,
      "outputs": []
    },
    {
      "cell_type": "code",
      "source": [
        "v_Models = fed_ml(vm,f_train , lr = 0.01, epoch = 3)"
      ],
      "metadata": {
        "colab": {
          "base_uri": "https://localhost:8080/"
        },
        "id": "CiygYWhkVBxW",
        "outputId": "43c2fbd9-cf78-46db-c04e-ff426eaebe39"
      },
      "execution_count": null,
      "outputs": [
        {
          "output_type": "stream",
          "name": "stdout",
          "text": [
            "The total loss for WORKER1 for epoch 1 is 1.0890727479066422\n",
            "The total loss for WORKER2 for epoch 1 is 1.147565378690325\n",
            "The total loss for WORKER3 for epoch 1 is 1.2076125600254104\n",
            "The total loss for WORKER4 is 1.4210400444262825\n",
            "The total loss for WORKER1 for epoch 2 is 0.23883717401481386\n",
            "The total loss for WORKER2 for epoch 2 is 0.26386813195879016\n",
            "The total loss for WORKER3 for epoch 2 is 0.26492550139869453\n",
            "The total loss for WORKER4 is 0.3166039739169482\n",
            "The total loss for WORKER1 for epoch 3 is 0.17013963370292046\n",
            "The total loss for WORKER2 for epoch 3 is 0.17338591378364862\n",
            "The total loss for WORKER3 for epoch 3 is 0.17512941899806705\n",
            "The total loss for WORKER4 is 0.20345790658904706\n"
          ]
        }
      ]
    },
    {
      "cell_type": "code",
      "source": [
        "v_Models = central_to_local(v_Models, vm[0:4])\n",
        "parameter  = accumulate(v_Models)"
      ],
      "metadata": {
        "id": "4Jjwsmicrlyl"
      },
      "execution_count": null,
      "outputs": []
    },
    {
      "cell_type": "code",
      "source": [
        "v_Models\n"
      ],
      "metadata": {
        "id": "J7Tu3UUDrnb0",
        "colab": {
          "base_uri": "https://localhost:8080/"
        },
        "outputId": "3cff2d3d-7457-4054-a70c-2272daa745bf"
      },
      "execution_count": null,
      "outputs": [
        {
          "output_type": "execute_result",
          "data": {
            "text/plain": [
              "[Net(\n",
              "   (conv1): Conv2d(1, 20, kernel_size=(5, 5), stride=(1, 1))\n",
              "   (conv2): Conv2d(20, 50, kernel_size=(5, 5), stride=(1, 1))\n",
              "   (fc1): Linear(in_features=800, out_features=500, bias=True)\n",
              "   (fc2): Linear(in_features=500, out_features=10, bias=True)\n",
              " ), Net(\n",
              "   (conv1): Conv2d(1, 20, kernel_size=(5, 5), stride=(1, 1))\n",
              "   (conv2): Conv2d(20, 50, kernel_size=(5, 5), stride=(1, 1))\n",
              "   (fc1): Linear(in_features=800, out_features=500, bias=True)\n",
              "   (fc2): Linear(in_features=500, out_features=10, bias=True)\n",
              " ), Net(\n",
              "   (conv1): Conv2d(1, 20, kernel_size=(5, 5), stride=(1, 1))\n",
              "   (conv2): Conv2d(20, 50, kernel_size=(5, 5), stride=(1, 1))\n",
              "   (fc1): Linear(in_features=800, out_features=500, bias=True)\n",
              "   (fc2): Linear(in_features=500, out_features=10, bias=True)\n",
              " ), Net(\n",
              "   (conv1): Conv2d(1, 20, kernel_size=(5, 5), stride=(1, 1))\n",
              "   (conv2): Conv2d(20, 50, kernel_size=(5, 5), stride=(1, 1))\n",
              "   (fc1): Linear(in_features=800, out_features=500, bias=True)\n",
              "   (fc2): Linear(in_features=500, out_features=10, bias=True)\n",
              " )]"
            ]
          },
          "metadata": {},
          "execution_count": 52
        }
      ]
    },
    {
      "cell_type": "code",
      "source": [
        "parameter"
      ],
      "metadata": {
        "id": "sA4SINU8ruKM",
        "colab": {
          "base_uri": "https://localhost:8080/"
        },
        "outputId": "7a802bc6-460e-40ca-c1bf-97c26c26f64b"
      },
      "execution_count": null,
      "outputs": [
        {
          "output_type": "execute_result",
          "data": {
            "text/plain": [
              "{'conv1.bias': tensor([-4.6117e+15,  4.6117e+15,  4.6117e+15,  4.6117e+15,  5.3000e-02,\n",
              "         -3.1000e-02,  4.6117e+15, -4.6117e+15,  4.2000e-02,  2.4000e-02,\n",
              "          4.6117e+15,  6.6000e-02,  4.6117e+15, -2.0000e-03, -4.6117e+15,\n",
              "         -4.6117e+15,  1.6300e-01,  4.6117e+15, -4.6117e+15,  4.6117e+15]),\n",
              " 'conv1.weight': tensor([[[[ 4.6117e+15,  7.7000e-02,  1.0500e-01, -4.6117e+15,  2.3000e-02],\n",
              "           [ 4.6117e+15, -1.0000e-01, -1.1400e-01,  4.6117e+15, -3.7000e-02],\n",
              "           [-2.5000e-02, -4.6117e+15, -1.6200e-01, -9.9000e-02,  4.6117e+15],\n",
              "           [ 4.8000e-02,  4.6117e+15, -4.6117e+15,  1.0800e-01, -4.6117e+15],\n",
              "           [ 5.9000e-02, -4.6117e+15,  3.9000e-02, -2.9000e-02, -8.8000e-02]]],\n",
              " \n",
              " \n",
              "         [[[-9.8000e-02,  2.1000e-02,  5.8000e-02,  1.0500e-01,  2.0500e-01],\n",
              "           [ 5.8000e-02,  6.0000e-02, -3.6000e-02, -4.6117e+15,  7.8000e-02],\n",
              "           [ 5.6000e-02, -4.6117e+15, -8.8000e-02,  2.0000e-02, -4.6117e+15],\n",
              "           [ 2.0000e-03, -6.8000e-02, -5.7000e-02, -4.4000e-02,  5.6000e-02],\n",
              "           [ 2.0000e-02,  3.5000e-02,  4.6117e+15, -3.2000e-02, -1.2600e-01]]],\n",
              " \n",
              " \n",
              "         [[[-6.3000e-02, -4.6117e+15, -4.6117e+15, -9.7000e-02,  1.3000e-02],\n",
              "           [-6.4000e-02, -1.5700e-01, -8.8000e-02,  2.4000e-02,  2.7000e-02],\n",
              "           [-4.6117e+15,  4.6117e+15,  6.0000e-03, -3.9000e-02, -4.6117e+15],\n",
              "           [-7.5000e-02,  1.2000e-02,  3.3000e-02,  4.6117e+15, -1.9000e-02],\n",
              "           [ 1.0000e-02, -1.7000e-02, -2.3000e-02, -1.0000e-01,  1.4000e-02]]],\n",
              " \n",
              " \n",
              "         [[[ 2.0000e-03,  8.3000e-02,  7.4000e-02, -6.6000e-02, -1.9700e-01],\n",
              "           [ 1.2500e-01, -4.5000e-02,  4.6117e+15, -4.6117e+15,  6.9000e-02],\n",
              "           [-3.4000e-02,  4.6117e+15,  2.8000e-02,  4.8000e-02,  1.0200e-01],\n",
              "           [-6.3000e-02, -1.2000e-01, -6.9000e-02,  4.6117e+15,  4.6117e+15],\n",
              "           [-3.9000e-02,  1.0000e-02, -1.1100e-01,  1.7000e-02,  4.4000e-02]]],\n",
              " \n",
              " \n",
              "         [[[ 1.6000e-02, -2.9000e-02, -1.1000e-02, -4.7000e-02, -2.1000e-02],\n",
              "           [-5.5000e-02,  5.4000e-02,  4.7000e-02, -4.6117e+15, -1.5800e-01],\n",
              "           [ 4.6117e+15, -3.0000e-03,  1.0000e-03,  4.6117e+15, -9.0000e-03],\n",
              "           [-6.6000e-02, -4.0000e-02, -4.6117e+15,  4.6117e+15, -4.6117e+15],\n",
              "           [-4.6117e+15, -2.3000e-02,  4.6117e+15,  6.2000e-02,  1.0000e-02]]],\n",
              " \n",
              " \n",
              "         [[[-1.5100e-01, -8.6000e-02, -1.2200e-01, -3.5000e-02, -5.6000e-02],\n",
              "           [-5.2000e-02, -4.6117e+15, -1.0000e-03,  2.6000e-02, -4.4000e-02],\n",
              "           [-4.6117e+15, -1.5000e-02,  1.0700e-01, -1.1000e-02, -4.6117e+15],\n",
              "           [-4.6117e+15,  1.0300e-01,  5.3000e-02, -3.7000e-02,  2.4000e-02],\n",
              "           [ 5.2000e-02, -6.0000e-03,  3.6000e-02,  4.6117e+15, -4.9000e-02]]],\n",
              " \n",
              " \n",
              "         [[[-3.1000e-02,  6.5000e-02,  3.2000e-02,  0.0000e+00,  4.6117e+15],\n",
              "           [ 5.6000e-02, -4.6117e+15,  3.0000e-02, -1.0200e-01,  4.6117e+15],\n",
              "           [ 3.1000e-02, -4.6117e+15, -6.2000e-02, -4.6117e+15, -4.9000e-02],\n",
              "           [-3.8000e-02, -9.0000e-03,  4.6117e+15, -4.6117e+15, -5.1000e-02],\n",
              "           [-4.6117e+15,  7.0000e-03, -1.2500e-01, -7.9000e-02,  3.4000e-02]]],\n",
              " \n",
              " \n",
              "         [[[ 1.2100e-01,  4.0000e-02,  4.2000e-02, -4.6117e+15, -7.8000e-02],\n",
              "           [-4.6117e+15,  1.0300e-01,  3.1000e-02,  4.6117e+15, -1.5000e-02],\n",
              "           [ 5.4000e-02,  4.6117e+15, -4.6117e+15, -1.2900e-01, -4.6117e+15],\n",
              "           [ 4.6117e+15,  1.6000e-02, -3.4000e-02, -1.1000e-02, -4.4000e-02],\n",
              "           [ 1.0600e-01, -4.6117e+15,  2.3000e-02, -3.7000e-02,  4.6117e+15]]],\n",
              " \n",
              " \n",
              "         [[[ 7.4000e-02,  4.6117e+15, -4.6117e+15,  3.0000e-02, -4.6117e+15],\n",
              "           [ 7.8000e-02,  4.6117e+15, -1.5000e-02, -7.9000e-02, -2.5000e-02],\n",
              "           [-4.9000e-02,  4.6117e+15, -1.0000e-02,  1.3000e-02, -1.3100e-01],\n",
              "           [-1.3100e-01,  4.6117e+15,  3.2000e-02,  4.6117e+15,  7.3000e-02],\n",
              "           [ 4.6117e+15,  4.6117e+15, -5.0000e-02,  4.6117e+15,  4.3000e-02]]],\n",
              " \n",
              " \n",
              "         [[[-9.0000e-02, -4.6117e+15, -4.6117e+15, -3.5000e-02, -4.6117e+15],\n",
              "           [-2.8000e-02,  4.6117e+15,  1.2800e-01, -4.6117e+15, -3.2000e-02],\n",
              "           [-4.6117e+15, -4.6117e+15,  4.6117e+15,  4.6117e+15,  4.6117e+15],\n",
              "           [ 7.5000e-02,  1.3200e-01,  9.2000e-02,  4.6117e+15, -6.1000e-02],\n",
              "           [ 3.8000e-02,  4.6117e+15, -4.6117e+15,  4.6117e+15, -5.0000e-02]]],\n",
              " \n",
              " \n",
              "         [[[-4.6117e+15,  7.2000e-02,  5.4000e-02, -9.7000e-02, -4.6117e+15],\n",
              "           [-5.0000e-03, -4.6117e+15, -6.8000e-02, -3.6000e-02,  3.5000e-02],\n",
              "           [ 5.0000e-02, -7.8000e-02,  6.9000e-02, -4.6117e+15, -9.8000e-02],\n",
              "           [ 8.0000e-03,  6.2000e-02, -3.0000e-03,  4.6117e+15,  3.0000e-03],\n",
              "           [-4.6117e+15,  4.1000e-02,  7.5000e-02, -7.2000e-02, -2.9000e-02]]],\n",
              " \n",
              " \n",
              "         [[[-9.5000e-02, -4.6117e+15,  9.5000e-02,  5.3000e-02, -4.6117e+15],\n",
              "           [-1.2000e-02,  9.1000e-02, -2.0000e-02,  5.1000e-02,  4.6117e+15],\n",
              "           [ 2.3000e-02, -7.0000e-03, -8.0000e-02, -3.5000e-02, -2.0000e-02],\n",
              "           [ 4.6117e+15, -4.6117e+15,  2.8000e-02, -4.6117e+15, -4.6117e+15],\n",
              "           [ 2.8000e-02,  4.6117e+15,  4.6117e+15,  4.0000e-03,  0.0000e+00]]],\n",
              " \n",
              " \n",
              "         [[[-4.4000e-02, -4.6117e+15, -4.6117e+15, -9.1000e-02, -4.6117e+15],\n",
              "           [-3.1000e-02,  4.6117e+15, -7.1000e-02,  4.6117e+15, -4.6117e+15],\n",
              "           [ 6.2000e-02,  8.8000e-02, -1.3800e-01,  4.6117e+15,  1.1000e-02],\n",
              "           [ 1.0000e-03,  3.0000e-03,  4.3000e-02, -1.1600e-01, -8.4000e-02],\n",
              "           [ 7.4000e-02,  5.7000e-02, -4.6117e+15,  1.1000e-01, -1.0500e-01]]],\n",
              " \n",
              " \n",
              "         [[[-2.8000e-02, -1.7400e-01, -1.2200e-01, -1.4400e-01, -4.6117e+15],\n",
              "           [-8.8000e-02, -4.6117e+15, -1.2000e-02, -8.9000e-02, -5.8000e-02],\n",
              "           [-8.5000e-02, -1.2000e-02, -7.4000e-02, -1.6000e-02,  4.6117e+15],\n",
              "           [-4.6117e+15,  4.6117e+15, -6.8000e-02, -1.1500e-01,  9.4000e-02],\n",
              "           [-2.6000e-02, -9.7000e-02, -6.4000e-02, -2.9000e-02, -2.1000e-02]]],\n",
              " \n",
              " \n",
              "         [[[ 2.8000e-02, -2.3000e-02, -4.6117e+15,  4.2000e-02, -2.4000e-02],\n",
              "           [-5.5000e-02, -3.0000e-02, -1.0000e-01, -4.6117e+15,  4.4000e-02],\n",
              "           [-6.7000e-02, -9.2000e-02,  3.6000e-02, -2.1000e-02, -4.6117e+15],\n",
              "           [-8.5000e-02,  1.4000e-02,  7.0000e-02, -4.6117e+15,  4.6117e+15],\n",
              "           [-3.5000e-02,  4.6117e+15,  2.9000e-02,  3.6000e-02,  6.1000e-02]]],\n",
              " \n",
              " \n",
              "         [[[-4.6117e+15,  4.6117e+15, -1.1300e-01,  4.6117e+15, -7.6000e-02],\n",
              "           [-8.6000e-02, -1.1200e-01, -7.8000e-02, -1.7500e-01, -1.2600e-01],\n",
              "           [-2.1600e-01, -4.6117e+15, -1.8700e-01, -9.3000e-02,  5.0000e-03],\n",
              "           [-1.3700e-01, -1.5200e-01,  4.6117e+15,  5.0000e-03,  4.6117e+15],\n",
              "           [ 4.6117e+15,  4.6117e+15,  4.6117e+15,  4.8000e-02,  4.6117e+15]]],\n",
              " \n",
              " \n",
              "         [[[ 2.0000e-03, -1.2000e-02, -4.6117e+15,  4.6117e+15,  1.8000e-02],\n",
              "           [-4.6117e+15, -7.7000e-02,  3.0000e-02,  2.4000e-02,  1.4400e-01],\n",
              "           [-4.6117e+15,  7.1000e-02,  4.6117e+15, -3.3000e-02, -1.0000e-03],\n",
              "           [-4.6117e+15, -1.8000e-02, -8.3000e-02, -8.5000e-02, -1.1200e-01],\n",
              "           [-1.5200e-01, -4.0000e-02,  4.6117e+15, -4.1000e-02, -1.1000e-02]]],\n",
              " \n",
              " \n",
              "         [[[ 2.6000e-02,  5.5000e-02, -1.6000e-02, -1.7000e-02,  3.7000e-02],\n",
              "           [-3.7000e-02,  5.0000e-03, -1.5000e-02, -7.8000e-02,  4.6117e+15],\n",
              "           [-4.6000e-02, -4.6117e+15, -8.5000e-02, -8.1000e-02, -1.6000e-02],\n",
              "           [-2.0100e-01, -5.9000e-02, -3.1000e-02, -4.1000e-02,  4.6117e+15],\n",
              "           [ 4.6117e+15, -1.2300e-01, -1.0500e-01, -5.9000e-02, -7.8000e-02]]],\n",
              " \n",
              " \n",
              "         [[[-5.8000e-02, -4.6117e+15, -6.1000e-02, -3.1000e-02, -4.4000e-02],\n",
              "           [-4.7000e-02, -4.6117e+15,  9.6000e-02,  7.1000e-02,  4.6117e+15],\n",
              "           [ 4.6117e+15,  7.1000e-02,  7.8000e-02,  4.6117e+15,  5.0000e-03],\n",
              "           [-4.6117e+15, -3.3000e-02,  4.6117e+15,  4.6117e+15,  4.3000e-02],\n",
              "           [-1.0800e-01, -4.6117e+15,  4.6117e+15,  1.0400e-01, -2.5000e-02]]],\n",
              " \n",
              " \n",
              "         [[[ 0.0000e+00,  1.0000e-02, -4.6117e+15, -4.6117e+15,  4.6117e+15],\n",
              "           [-4.6117e+15, -9.6000e-02,  7.0000e-03,  4.6117e+15, -5.9000e-02],\n",
              "           [-5.2000e-02, -4.6117e+15,  3.5000e-02, -4.6117e+15,  8.8000e-02],\n",
              "           [ 1.8000e-02,  0.0000e+00, -4.6117e+15,  2.2000e-02, -3.0000e-03],\n",
              "           [ 4.6117e+15,  3.8000e-02, -4.6117e+15, -4.6117e+15,  7.1000e-02]]]]),\n",
              " 'conv2.bias': tensor([-3.0000e-03,  1.0000e-03, -3.0000e-03,  4.6117e+15,  2.0000e-03,\n",
              "          5.0000e-03,  4.6117e+15,  4.6117e+15, -2.1000e-02, -3.0000e-03,\n",
              "          3.0000e-02, -4.6117e+15, -4.6117e+15,  4.6117e+15, -4.6117e+15,\n",
              "         -6.0000e-03,  1.2000e-02, -2.0000e-03, -5.0000e-03,  1.9000e-02,\n",
              "          1.6000e-02,  4.6117e+15, -1.5000e-02,  1.3000e-02, -4.0000e-03,\n",
              "          4.6117e+15,  4.6117e+15, -1.1000e-02,  3.0000e-03,  9.0000e-03,\n",
              "          7.0000e-03,  1.0000e-03,  7.0000e-03,  0.0000e+00,  6.0000e-03,\n",
              "          7.0000e-03,  0.0000e+00, -4.6117e+15, -1.0000e-03,  1.2000e-02,\n",
              "         -1.9000e-02,  2.3000e-02,  6.0000e-03, -1.0000e-02,  1.7000e-02,\n",
              "         -4.6117e+15,  6.0000e-03,  1.5000e-02,  1.0000e-03, -5.0000e-03]),\n",
              " 'conv2.weight': tensor([[[[-4.0000e-03, -2.7000e-02, -1.0000e-02,  1.3000e-02,  1.1000e-02],\n",
              "           [ 4.6117e+15, -1.0000e-03, -1.9000e-02,  2.0000e-03,  1.0000e-03],\n",
              "           [-3.0000e-03, -4.6117e+15, -4.6117e+15, -1.9000e-02,  1.2000e-02],\n",
              "           [ 2.6000e-02, -3.0000e-03,  0.0000e+00,  1.7000e-02,  1.1000e-02],\n",
              "           [ 1.0000e-03, -6.0000e-03, -1.1000e-02,  4.6117e+15,  0.0000e+00]],\n",
              " \n",
              "          [[-9.0000e-03, -4.6117e+15,  4.6117e+15, -1.9000e-02,  8.0000e-03],\n",
              "           [ 3.0000e-02,  4.6117e+15, -4.6117e+15,  0.0000e+00, -1.0000e-02],\n",
              "           [-4.6117e+15, -4.6117e+15,  4.2000e-02,  4.6117e+15, -4.6117e+15],\n",
              "           [-4.6117e+15,  4.6117e+15,  1.6000e-02, -4.6117e+15,  0.0000e+00],\n",
              "           [-4.6117e+15, -4.6117e+15,  1.6000e-02, -1.4000e-02, -4.6117e+15]],\n",
              " \n",
              "          [[-1.5000e-02, -6.0000e-03, -2.3000e-02, -1.0000e-03,  3.6000e-02],\n",
              "           [ 2.1000e-02,  4.6117e+15,  4.6117e+15, -1.3000e-02,  2.0000e-03],\n",
              "           [-2.6000e-02, -8.0000e-03, -9.0000e-03, -1.5000e-02, -9.0000e-03],\n",
              "           [-4.6117e+15,  1.5000e-02, -4.6117e+15, -2.0000e-02, -2.5000e-02],\n",
              "           [-4.6117e+15, -7.0000e-03, -4.6117e+15,  4.6117e+15, -2.1000e-02]],\n",
              " \n",
              "          ...,\n",
              " \n",
              "          [[ 1.1000e-02,  2.6000e-02,  1.3000e-02, -9.0000e-03,  6.0000e-03],\n",
              "           [-1.0000e-03,  1.4000e-02,  1.5000e-02, -3.0000e-03, -1.4000e-02],\n",
              "           [ 2.3000e-02,  0.0000e+00,  8.0000e-03,  9.0000e-03,  4.6117e+15],\n",
              "           [ 1.6000e-02,  4.6117e+15,  1.7000e-02, -3.0000e-03, -1.5000e-02],\n",
              "           [ 4.6000e-02, -4.6117e+15,  0.0000e+00, -4.6117e+15, -1.6000e-02]],\n",
              " \n",
              "          [[-8.0000e-03,  4.6117e+15,  4.6117e+15,  1.2000e-02,  1.3000e-02],\n",
              "           [-1.1000e-02, -9.0000e-03,  1.1000e-02,  1.3000e-02,  4.6117e+15],\n",
              "           [ 1.2000e-02, -1.5000e-02, -1.8000e-02,  3.5000e-02, -4.6117e+15],\n",
              "           [-9.0000e-03, -4.6117e+15,  4.4000e-02,  3.5000e-02, -4.6117e+15],\n",
              "           [ 2.0000e-03,  1.4000e-02,  4.6117e+15, -4.6117e+15,  7.0000e-03]],\n",
              " \n",
              "          [[ 3.2000e-02, -4.6117e+15, -6.0000e-03,  3.0000e-03,  1.0000e-02],\n",
              "           [ 4.6117e+15,  1.1000e-02, -3.0000e-03,  2.1000e-02, -8.0000e-03],\n",
              "           [ 9.0000e-03, -4.6117e+15, -5.0000e-03,  2.4000e-02, -4.6117e+15],\n",
              "           [-4.6117e+15, -1.3000e-02,  1.2000e-02,  2.0000e-02,  1.5000e-02],\n",
              "           [ 5.0000e-03,  4.0000e-03,  4.0000e-03,  1.5000e-02,  1.0000e-02]]],\n",
              " \n",
              " \n",
              "         [[[-4.6117e+15, -2.0000e-02, -2.0000e-03, -4.6117e+15, -2.1000e-02],\n",
              "           [-6.0000e-03,  7.0000e-03,  8.0000e-03, -2.1000e-02, -1.7000e-02],\n",
              "           [-4.6117e+15, -2.0000e-03, -3.0000e-03,  4.6117e+15,  4.6117e+15],\n",
              "           [ 2.4000e-02,  4.6117e+15, -6.0000e-03, -1.6000e-02, -2.0000e-02],\n",
              "           [-4.6117e+15, -1.4000e-02,  1.9000e-02, -4.6117e+15, -8.0000e-03]],\n",
              " \n",
              "          [[-9.0000e-03, -4.6117e+15, -7.0000e-03, -7.0000e-03, -1.1000e-02],\n",
              "           [ 4.6117e+15,  4.0000e-02, -4.6117e+15, -4.6117e+15,  4.6117e+15],\n",
              "           [-7.0000e-03,  1.3000e-02,  4.6117e+15,  0.0000e+00, -4.0000e-03],\n",
              "           [-4.6117e+15,  4.6117e+15, -1.6000e-02,  2.0000e-03, -4.6117e+15],\n",
              "           [ 1.8000e-02,  1.9000e-02, -7.0000e-03,  1.2000e-02,  4.6117e+15]],\n",
              " \n",
              "          [[ 5.0000e-03, -4.6117e+15, -4.6117e+15, -1.6000e-02,  4.6117e+15],\n",
              "           [ 3.0000e-03, -5.0000e-03,  1.3000e-02,  0.0000e+00,  1.4000e-02],\n",
              "           [ 1.1000e-02,  4.6117e+15, -1.0000e-02,  1.7000e-02, -1.2000e-02],\n",
              "           [-2.3000e-02,  4.6117e+15,  1.4000e-02,  4.6117e+15,  4.6117e+15],\n",
              "           [-4.6117e+15,  8.0000e-03,  5.0000e-03, -4.6117e+15, -4.6117e+15]],\n",
              " \n",
              "          ...,\n",
              " \n",
              "          [[-4.0000e-03,  4.6117e+15,  4.6117e+15,  0.0000e+00, -4.6117e+15],\n",
              "           [-4.6117e+15,  3.7000e-02, -4.6117e+15,  9.0000e-03, -7.0000e-03],\n",
              "           [-3.0000e-03,  3.8000e-02,  1.7000e-02, -1.7000e-02, -4.6117e+15],\n",
              "           [ 4.6117e+15, -4.6117e+15, -1.8000e-02,  3.0000e-03,  1.4000e-02],\n",
              "           [-2.0000e-03,  1.7000e-02,  2.0000e-02, -4.6117e+15, -2.7000e-02]],\n",
              " \n",
              "          [[-4.6117e+15,  4.6117e+15,  1.8000e-02,  1.5000e-02, -8.0000e-03],\n",
              "           [ 8.0000e-03, -7.0000e-03,  6.0000e-03,  1.2000e-02,  4.6117e+15],\n",
              "           [-3.0000e-03, -1.3000e-02, -1.9000e-02, -1.0000e-02, -1.4000e-02],\n",
              "           [-3.0000e-03,  2.7000e-02, -4.6117e+15,  4.6117e+15, -7.0000e-03],\n",
              "           [ 4.0000e-03,  1.7000e-02,  4.6117e+15, -2.0000e-03, -2.7000e-02]],\n",
              " \n",
              "          [[-1.8000e-02,  3.0000e-02, -9.0000e-03,  2.0000e-03,  4.6117e+15],\n",
              "           [-4.6117e+15,  4.6117e+15,  4.6117e+15,  4.6117e+15, -4.6117e+15],\n",
              "           [ 1.0000e-02,  3.4000e-02,  0.0000e+00, -1.0000e-02,  4.0000e-03],\n",
              "           [ 4.6117e+15, -2.0000e-02,  1.4000e-02,  4.0000e-03,  2.1000e-02],\n",
              "           [-4.6117e+15, -5.0000e-03,  4.6117e+15,  4.6117e+15,  7.0000e-03]]],\n",
              " \n",
              " \n",
              "         [[[ 4.6117e+15, -3.0000e-03,  4.6117e+15, -4.0000e-03,  3.0000e-03],\n",
              "           [-4.6117e+15,  8.0000e-03,  2.5000e-02, -4.6117e+15, -4.6117e+15],\n",
              "           [-4.6117e+15,  1.4000e-02,  1.4000e-02,  1.5000e-02,  1.7000e-02],\n",
              "           [ 4.6117e+15,  0.0000e+00,  1.9000e-02, -4.6117e+15,  2.6000e-02],\n",
              "           [ 4.6117e+15, -5.0000e-03, -4.6117e+15, -1.0000e-03, -4.6117e+15]],\n",
              " \n",
              "          [[-6.0000e-03, -4.6117e+15,  1.8000e-02, -8.0000e-03, -4.6117e+15],\n",
              "           [-4.6117e+15, -1.0000e-03,  4.6117e+15,  5.0000e-03,  2.0000e-03],\n",
              "           [-9.0000e-03,  2.2000e-02, -1.7000e-02,  4.6117e+15,  2.0000e-03],\n",
              "           [-1.8000e-02,  1.0000e-03,  1.3000e-02, -1.0000e-03,  4.6117e+15],\n",
              "           [-4.6117e+15,  1.6000e-02,  4.6117e+15,  1.4000e-02, -1.2000e-02]],\n",
              " \n",
              "          [[ 1.9000e-02,  4.6117e+15,  4.6117e+15, -4.6117e+15, -2.1000e-02],\n",
              "           [ 1.6000e-02,  4.6117e+15,  4.6117e+15, -1.3000e-02, -4.6117e+15],\n",
              "           [ 4.6117e+15, -4.6117e+15, -7.0000e-03,  4.6117e+15, -4.6117e+15],\n",
              "           [-1.0000e-02,  4.0000e-03, -1.0000e-03, -4.6117e+15,  2.3000e-02],\n",
              "           [-1.9000e-02,  1.8000e-02,  2.1000e-02,  4.6117e+15, -6.0000e-03]],\n",
              " \n",
              "          ...,\n",
              " \n",
              "          [[ 1.0000e-03,  4.6117e+15, -2.0000e-02,  2.5000e-02, -9.0000e-03],\n",
              "           [ 1.3000e-02, -4.6117e+15, -4.6117e+15,  4.6117e+15,  4.6117e+15],\n",
              "           [-1.0000e-03,  1.8000e-02, -4.6117e+15, -4.6117e+15,  2.4000e-02],\n",
              "           [ 4.6117e+15, -4.6117e+15,  2.2000e-02,  4.6117e+15, -1.0000e-02],\n",
              "           [ 8.0000e-03,  0.0000e+00, -4.6117e+15, -3.8000e-02,  4.6117e+15]],\n",
              " \n",
              "          [[-1.0000e-02,  4.6117e+15,  1.0000e-02,  1.8000e-02,  4.6117e+15],\n",
              "           [-1.2000e-02,  4.6117e+15,  4.6117e+15,  2.9000e-02, -2.0000e-02],\n",
              "           [ 1.8000e-02,  4.6117e+15,  4.0000e-03,  2.3000e-02, -4.6117e+15],\n",
              "           [-7.0000e-03,  7.0000e-03,  3.0000e-03,  4.6117e+15,  5.0000e-03],\n",
              "           [ 9.0000e-03, -4.6117e+15,  2.0000e-03,  1.0000e-02, -1.9000e-02]],\n",
              " \n",
              "          [[-6.0000e-03, -4.6117e+15,  1.9000e-02, -7.0000e-03,  7.0000e-03],\n",
              "           [ 9.0000e-03, -4.6117e+15,  2.0000e-03, -4.6117e+15, -4.6117e+15],\n",
              "           [ 2.9000e-02, -4.0000e-03, -1.6000e-02, -1.0000e-03,  4.0000e-03],\n",
              "           [-2.0000e-03, -1.1000e-02, -4.0000e-03,  4.0000e-03, -1.5000e-02],\n",
              "           [-5.0000e-03,  4.6117e+15,  4.6117e+15, -4.6117e+15, -1.2000e-02]]],\n",
              " \n",
              " \n",
              "         ...,\n",
              " \n",
              " \n",
              "         [[[-4.6117e+15,  4.6117e+15,  5.0000e-03,  2.0000e-03,  3.5000e-02],\n",
              "           [ 4.1000e-02, -4.6117e+15,  9.0000e-03, -1.0000e-02,  2.1000e-02],\n",
              "           [-8.0000e-03,  4.6117e+15, -4.6117e+15,  4.6117e+15,  2.5000e-02],\n",
              "           [ 2.1000e-02,  2.2000e-02, -4.6117e+15,  8.0000e-03, -4.6117e+15],\n",
              "           [ 4.6117e+15, -1.9000e-02, -1.6000e-02, -4.6117e+15,  5.0000e-03]],\n",
              " \n",
              "          [[ 2.0000e-03,  4.6117e+15, -8.0000e-03, -4.6117e+15,  4.6117e+15],\n",
              "           [-4.6117e+15,  2.7000e-02,  1.0000e-02,  4.6117e+15, -1.3000e-02],\n",
              "           [ 5.0000e-03, -1.4000e-02,  1.0000e-03, -1.0000e-03,  2.1000e-02],\n",
              "           [-4.6117e+15,  4.6117e+15, -1.6000e-02,  4.6117e+15,  4.6117e+15],\n",
              "           [ 6.0000e-03, -2.2000e-02,  4.6117e+15,  1.8000e-02,  4.6117e+15]],\n",
              " \n",
              "          [[ 4.0000e-03,  4.6117e+15, -9.0000e-03,  8.0000e-03,  2.7000e-02],\n",
              "           [ 1.2000e-02,  4.6117e+15,  1.8000e-02, -5.0000e-03, -3.3000e-02],\n",
              "           [ 3.3000e-02,  6.0000e-03, -6.0000e-03,  4.0000e-03,  4.6117e+15],\n",
              "           [-4.6117e+15,  4.0000e-03,  1.2000e-02, -4.6117e+15, -1.7000e-02],\n",
              "           [ 1.6000e-02,  1.3000e-02,  1.2000e-02,  8.0000e-03, -4.6117e+15]],\n",
              " \n",
              "          ...,\n",
              " \n",
              "          [[ 2.6000e-02, -5.0000e-03,  7.0000e-03,  4.6117e+15, -8.0000e-03],\n",
              "           [-4.6117e+15,  4.6117e+15, -4.6117e+15,  2.8000e-02,  2.7000e-02],\n",
              "           [-1.1000e-02,  4.6117e+15,  2.3000e-02, -4.6117e+15,  4.6117e+15],\n",
              "           [ 4.6117e+15,  1.0000e-03, -1.8000e-02, -5.0000e-03, -2.3000e-02],\n",
              "           [ 7.0000e-03, -2.7000e-02, -1.5000e-02,  4.6117e+15, -1.3000e-02]],\n",
              " \n",
              "          [[ 4.6117e+15, -1.0000e-02,  1.4000e-02,  4.6117e+15,  4.0000e-03],\n",
              "           [ 2.0000e-03,  1.0000e-02,  1.4000e-02, -4.6117e+15,  4.6117e+15],\n",
              "           [-4.6117e+15, -2.0000e-03,  1.1000e-02,  2.0000e-02, -7.0000e-03],\n",
              "           [ 2.1000e-02,  3.4000e-02,  1.4000e-02,  4.6117e+15,  5.0000e-03],\n",
              "           [ 4.6117e+15,  1.4000e-02,  8.0000e-03, -7.0000e-03, -1.5000e-02]],\n",
              " \n",
              "          [[ 4.6117e+15,  1.8000e-02,  7.0000e-03,  1.0000e-03,  3.1000e-02],\n",
              "           [-4.6117e+15, -2.7000e-02,  2.2000e-02, -2.0000e-02,  4.6117e+15],\n",
              "           [ 4.6117e+15,  1.9000e-02,  4.6117e+15, -4.6117e+15, -1.6000e-02],\n",
              "           [-1.1000e-02, -1.0000e-02, -2.1000e-02, -4.0000e-03, -4.6117e+15],\n",
              "           [-9.0000e-03,  4.6117e+15,  4.6117e+15, -1.1000e-02, -5.0000e-03]]],\n",
              " \n",
              " \n",
              "         [[[ 0.0000e+00,  1.2000e-02, -5.0000e-03,  4.6117e+15, -1.6000e-02],\n",
              "           [-1.0000e-02, -2.0000e-03,  1.8000e-02, -1.6000e-02,  4.6117e+15],\n",
              "           [ 1.7000e-02, -8.0000e-03, -4.6117e+15,  4.6117e+15, -2.2000e-02],\n",
              "           [-9.0000e-03, -1.0000e-02, -4.6117e+15,  4.6117e+15,  2.3000e-02],\n",
              "           [-4.6117e+15, -3.5000e-02, -1.0000e-03,  3.0000e-03,  7.0000e-03]],\n",
              " \n",
              "          [[-9.0000e-03, -4.6117e+15,  4.6117e+15,  4.6117e+15,  0.0000e+00],\n",
              "           [ 0.0000e+00, -4.6117e+15, -8.0000e-03, -4.6117e+15,  4.6117e+15],\n",
              "           [ 1.0000e-03,  1.0000e-02, -4.6117e+15, -8.0000e-03,  4.6117e+15],\n",
              "           [ 4.6117e+15,  4.6117e+15,  4.6117e+15, -4.6117e+15, -2.3000e-02],\n",
              "           [ 4.6117e+15, -4.6117e+15, -4.6117e+15, -1.8000e-02, -3.0000e-03]],\n",
              " \n",
              "          [[ 4.6117e+15, -2.0000e-03, -4.6117e+15,  2.0000e-03,  3.1000e-02],\n",
              "           [-7.0000e-03,  4.6117e+15,  2.0000e-02,  2.6000e-02,  3.1000e-02],\n",
              "           [-4.0000e-03,  1.1000e-02, -4.6117e+15,  1.2000e-02, -4.6117e+15],\n",
              "           [ 7.0000e-03,  1.5000e-02, -3.0000e-03,  1.0000e-03, -2.0000e-02],\n",
              "           [ 3.0000e-03,  1.6000e-02,  9.0000e-03,  1.1000e-02,  1.6000e-02]],\n",
              " \n",
              "          ...,\n",
              " \n",
              "          [[-2.0000e-03,  9.0000e-03,  4.6117e+15, -4.6117e+15, -4.6117e+15],\n",
              "           [ 4.6117e+15,  4.6117e+15,  1.2000e-02,  4.6117e+15, -1.1000e-02],\n",
              "           [-5.0000e-03,  4.6117e+15,  3.0000e-03, -4.6117e+15, -4.6117e+15],\n",
              "           [-2.1000e-02,  4.6117e+15,  6.0000e-03, -1.0000e-02,  4.6117e+15],\n",
              "           [ 3.0000e-03,  4.6117e+15,  1.1000e-02, -9.0000e-03, -6.0000e-03]],\n",
              " \n",
              "          [[ 1.5000e-02, -4.6117e+15,  4.6117e+15, -4.6117e+15,  7.0000e-03],\n",
              "           [-7.0000e-03,  9.0000e-03,  4.6117e+15, -1.0000e-03,  2.0000e-02],\n",
              "           [ 4.6117e+15, -2.0000e-03,  9.0000e-03,  4.6117e+15,  3.0000e-03],\n",
              "           [-4.6117e+15, -4.6117e+15,  8.0000e-03, -4.6117e+15,  4.6117e+15],\n",
              "           [ 4.6117e+15,  2.1000e-02, -4.6117e+15,  4.6117e+15, -4.6117e+15]],\n",
              " \n",
              "          [[-1.9000e-02,  1.2000e-02,  4.6117e+15,  4.6117e+15,  2.7000e-02],\n",
              "           [-3.0000e-03, -3.0000e-03, -3.0000e-03,  4.6117e+15,  4.6117e+15],\n",
              "           [ 4.6117e+15,  4.6117e+15, -1.8000e-02,  1.5000e-02,  1.5000e-02],\n",
              "           [ 2.4000e-02,  4.6117e+15, -9.0000e-03, -1.7000e-02, -4.6117e+15],\n",
              "           [ 1.1000e-02, -9.0000e-03, -4.6117e+15, -1.0000e-02,  4.6117e+15]]],\n",
              " \n",
              " \n",
              "         [[[ 2.0000e-03, -7.0000e-03,  4.6117e+15, -4.6117e+15, -1.4000e-02],\n",
              "           [-2.0000e-02,  4.0000e-03,  4.6117e+15,  4.6117e+15,  4.6117e+15],\n",
              "           [ 9.0000e-03, -4.6117e+15, -1.4000e-02,  4.6117e+15,  1.4000e-02],\n",
              "           [ 1.1000e-02,  4.6117e+15,  4.6117e+15, -4.6117e+15, -6.0000e-03],\n",
              "           [ 4.6117e+15,  4.6117e+15,  4.6117e+15,  3.3000e-02,  2.9000e-02]],\n",
              " \n",
              "          [[ 5.0000e-03,  6.0000e-03,  1.1000e-02, -6.0000e-03,  4.6117e+15],\n",
              "           [-4.6117e+15,  4.6117e+15, -9.0000e-03, -4.6117e+15,  7.0000e-03],\n",
              "           [-4.6117e+15, -8.0000e-03,  1.0000e-02,  7.0000e-03,  4.6117e+15],\n",
              "           [-8.0000e-03, -1.2000e-02,  4.6117e+15, -1.1000e-02,  4.6117e+15],\n",
              "           [-1.3000e-02,  4.6117e+15,  1.1000e-02, -4.6117e+15,  4.6117e+15]],\n",
              " \n",
              "          [[-1.7000e-02,  1.1000e-02,  4.6117e+15,  3.1000e-02, -4.6117e+15],\n",
              "           [-1.2000e-02,  1.9000e-02, -4.6117e+15,  4.6117e+15,  4.6117e+15],\n",
              "           [ 4.6117e+15, -3.5000e-02, -4.6117e+15, -1.0000e-03,  4.6117e+15],\n",
              "           [-2.9000e-02,  2.0000e-03, -4.6117e+15,  3.0000e-03, -8.0000e-03],\n",
              "           [-4.6117e+15, -4.6117e+15, -1.3000e-02,  2.4000e-02,  4.6117e+15]],\n",
              " \n",
              "          ...,\n",
              " \n",
              "          [[ 1.1000e-02, -4.6117e+15,  4.6117e+15,  2.0000e-03,  4.6117e+15],\n",
              "           [-1.7000e-02, -4.6117e+15, -3.4000e-02,  6.0000e-03,  1.9000e-02],\n",
              "           [-1.5000e-02, -8.0000e-03, -3.0000e-03, -2.4000e-02, -4.6117e+15],\n",
              "           [ 2.1000e-02,  2.2000e-02,  4.6117e+15, -3.0000e-03, -4.6117e+15],\n",
              "           [ 4.6117e+15,  2.0000e-02,  3.1000e-02,  4.6117e+15,  9.0000e-03]],\n",
              " \n",
              "          [[-4.6117e+15, -9.0000e-03,  8.0000e-03,  1.0000e-02,  2.1000e-02],\n",
              "           [ 1.2000e-02, -4.6117e+15, -5.0000e-03, -4.6117e+15,  4.6117e+15],\n",
              "           [ 1.9000e-02, -4.0000e-03, -7.0000e-03, -4.6117e+15, -2.3000e-02],\n",
              "           [ 4.6117e+15,  0.0000e+00, -9.0000e-03,  1.1000e-02, -1.2000e-02],\n",
              "           [ 4.6117e+15, -9.0000e-03,  4.0000e-03,  7.0000e-03, -4.0000e-03]],\n",
              " \n",
              "          [[ 1.8000e-02, -4.6117e+15,  4.6117e+15, -4.0000e-03,  4.6117e+15],\n",
              "           [-4.6117e+15,  7.0000e-03, -4.6117e+15, -1.1000e-02, -7.0000e-03],\n",
              "           [ 6.0000e-03,  9.0000e-03,  0.0000e+00, -1.1000e-02, -7.0000e-03],\n",
              "           [ 3.0000e-02,  8.0000e-03, -1.2000e-02, -1.5000e-02,  4.6117e+15],\n",
              "           [-4.0000e-03,  3.4000e-02,  4.6117e+15, -4.6117e+15, -8.0000e-03]]]]),\n",
              " 'fc1.bias': tensor([-1.0000e-02, -4.0000e-03,  8.0000e-03,  1.7000e-02, -4.6117e+15,\n",
              "          0.0000e+00,  1.3000e-02,  4.6117e+15,  4.6117e+15,  4.6117e+15,\n",
              "         -4.0000e-03, -9.0000e-03, -3.0000e-03,  5.0000e-03,  4.6117e+15,\n",
              "          0.0000e+00, -4.6117e+15, -2.1000e-02, -3.0000e-03, -5.0000e-03,\n",
              "          1.1000e-02, -4.6117e+15,  4.0000e-03, -1.4000e-02, -4.6117e+15,\n",
              "          1.6000e-02,  0.0000e+00, -1.0000e-02,  3.0000e-03, -1.6000e-02,\n",
              "         -4.6117e+15, -9.0000e-03,  2.0000e-03, -4.6117e+15,  4.6117e+15,\n",
              "          1.3000e-02, -1.7000e-02, -1.0000e-02,  5.0000e-03, -4.0000e-03,\n",
              "          1.0000e-03,  1.0000e-03,  4.6117e+15, -4.6117e+15,  4.6117e+15,\n",
              "         -5.0000e-03, -4.6117e+15, -4.6117e+15,  4.6117e+15,  4.6117e+15,\n",
              "          2.1000e-02, -1.2000e-02, -1.0000e-03, -1.1000e-02,  4.6117e+15,\n",
              "         -4.6117e+15,  4.6117e+15, -1.5000e-02,  4.6117e+15, -1.1000e-02,\n",
              "          4.6117e+15,  4.6117e+15, -4.6117e+15,  1.2000e-02, -2.0000e-03,\n",
              "         -8.0000e-03,  2.0000e-03, -2.4000e-02,  1.7000e-02,  0.0000e+00,\n",
              "         -1.0000e-03,  1.4000e-02,  5.0000e-03,  4.6117e+15,  1.3000e-02,\n",
              "         -4.6117e+15,  1.3000e-02,  1.0000e-03,  4.6117e+15, -9.0000e-03,\n",
              "         -4.6117e+15,  5.0000e-03, -1.1000e-02, -1.1000e-02,  7.0000e-03,\n",
              "         -4.6117e+15, -3.0000e-03,  1.3000e-02, -4.6117e+15,  2.0000e-02,\n",
              "         -2.3000e-02, -7.0000e-03,  4.6117e+15,  4.6117e+15, -4.6117e+15,\n",
              "          1.5000e-02,  2.0000e-03, -4.6117e+15,  1.6000e-02,  4.6117e+15,\n",
              "          1.8000e-02,  4.6117e+15,  1.3000e-02,  5.0000e-03, -9.0000e-03,\n",
              "          4.6117e+15,  3.0000e-03,  4.6117e+15, -4.6117e+15,  1.7000e-02,\n",
              "         -2.0000e-02,  4.6117e+15, -9.0000e-03, -2.6000e-02, -2.0000e-03,\n",
              "          1.2000e-02, -4.6117e+15,  4.6117e+15, -2.0000e-03,  5.0000e-03,\n",
              "          1.5000e-02, -4.6117e+15,  4.6117e+15, -4.6117e+15,  4.6117e+15,\n",
              "          4.0000e-03, -4.0000e-03,  2.2000e-02,  6.0000e-03, -8.0000e-03,\n",
              "         -4.6117e+15,  9.0000e-03, -9.0000e-03,  1.1000e-02,  1.4000e-02,\n",
              "         -9.0000e-03,  1.0000e-03, -2.0000e-03, -5.0000e-03, -1.5000e-02,\n",
              "         -1.2000e-02, -4.6117e+15, -1.4000e-02,  1.4000e-02, -4.0000e-03,\n",
              "          4.6117e+15, -1.0000e-03, -4.6117e+15, -1.8000e-02,  8.0000e-03,\n",
              "          1.1000e-02,  4.6117e+15,  2.0000e-02,  1.5000e-02,  4.6117e+15,\n",
              "         -6.0000e-03, -4.0000e-03, -1.2000e-02, -4.0000e-03, -4.6117e+15,\n",
              "         -4.6117e+15, -1.1000e-02,  4.0000e-03, -4.6117e+15, -4.0000e-03,\n",
              "         -1.0000e-03, -4.6117e+15,  4.6117e+15, -4.6117e+15, -1.0000e-02,\n",
              "         -1.9000e-02,  2.5000e-02,  4.6117e+15, -1.0000e-03, -6.0000e-03,\n",
              "         -2.0000e-03, -2.0000e-02, -7.0000e-03,  6.0000e-03,  4.6117e+15,\n",
              "          1.5000e-02,  7.0000e-03, -6.0000e-03, -1.0000e-02, -1.0000e-02,\n",
              "         -2.0000e-03,  1.0000e-02, -5.0000e-03, -4.6117e+15, -1.0000e-02,\n",
              "         -2.0000e-03,  1.4000e-02,  4.6117e+15, -1.3000e-02,  0.0000e+00,\n",
              "          2.0000e-03,  4.0000e-03, -3.0000e-03,  4.6117e+15,  1.1000e-02,\n",
              "          4.0000e-03, -6.0000e-03, -4.6117e+15, -4.6117e+15, -4.0000e-03,\n",
              "          5.0000e-03, -1.0000e-02,  4.6117e+15,  5.0000e-03, -1.0000e-03,\n",
              "         -1.2000e-02,  4.6117e+15,  4.6117e+15, -4.6117e+15,  9.0000e-03,\n",
              "         -4.6117e+15, -1.0000e-02,  4.6117e+15,  4.6117e+15,  0.0000e+00,\n",
              "          7.0000e-03,  4.6117e+15,  0.0000e+00, -4.6117e+15,  4.6117e+15,\n",
              "          4.6117e+15,  3.0000e-03,  4.6117e+15, -1.2000e-02, -4.6117e+15,\n",
              "          4.0000e-03, -4.0000e-03,  3.0000e-03, -4.6117e+15,  1.3000e-02,\n",
              "         -5.0000e-03, -4.6117e+15,  1.0000e-03,  6.0000e-03,  1.9000e-02,\n",
              "         -1.5000e-02,  1.0000e-02, -2.0000e-03,  4.6117e+15, -4.6117e+15,\n",
              "         -9.0000e-03,  1.5000e-02, -2.0000e-03, -2.3000e-02, -3.0000e-03,\n",
              "          2.0000e-03,  5.0000e-03, -2.0000e-03, -9.0000e-03, -4.0000e-03,\n",
              "          2.0000e-03,  8.0000e-03,  1.0000e-02,  1.3000e-02, -3.0000e-03,\n",
              "         -1.6000e-02, -5.0000e-03, -1.0000e-03, -2.3000e-02,  8.0000e-03,\n",
              "          1.9000e-02, -1.0000e-03, -6.0000e-03,  1.0000e-03,  1.0000e-02,\n",
              "         -6.0000e-03,  1.7000e-02, -1.3000e-02,  1.0000e-02, -9.0000e-03,\n",
              "         -1.0000e-02,  1.3000e-02,  4.6117e+15,  6.0000e-03, -4.6117e+15,\n",
              "          1.0000e-03,  5.0000e-03,  4.6117e+15, -4.6117e+15,  0.0000e+00,\n",
              "          4.6117e+15, -2.0000e-02, -6.0000e-03, -4.6117e+15,  4.6117e+15,\n",
              "          2.4000e-02,  0.0000e+00, -4.6117e+15, -2.4000e-02,  4.0000e-03,\n",
              "         -4.6117e+15, -4.6117e+15, -9.0000e-03, -1.4000e-02,  8.0000e-03,\n",
              "         -1.0000e-02,  4.6117e+15, -4.6117e+15, -4.6117e+15,  6.0000e-03,\n",
              "         -8.0000e-03,  7.0000e-03,  0.0000e+00,  8.0000e-03, -1.7000e-02,\n",
              "         -1.6000e-02,  4.6117e+15, -4.6117e+15,  8.0000e-03, -7.0000e-03,\n",
              "          4.6117e+15, -1.7000e-02, -9.0000e-03,  2.0000e-03, -4.0000e-03,\n",
              "          0.0000e+00,  9.0000e-03,  7.0000e-03,  1.6000e-02, -4.6117e+15,\n",
              "         -4.6117e+15, -4.6117e+15,  4.6117e+15, -5.0000e-03,  6.0000e-03,\n",
              "          1.0000e-02,  5.0000e-03, -1.4000e-02,  1.0000e-03,  4.0000e-03,\n",
              "          4.6117e+15,  1.3000e-02, -4.6117e+15, -4.6117e+15,  7.0000e-03,\n",
              "          1.0000e-02, -4.6117e+15, -4.6117e+15,  9.0000e-03, -7.0000e-03,\n",
              "         -4.6117e+15, -6.0000e-03, -4.6117e+15,  0.0000e+00, -3.0000e-03,\n",
              "         -1.3000e-02,  6.0000e-03,  1.1000e-02,  1.7000e-02,  9.0000e-03,\n",
              "         -1.8000e-02, -4.6117e+15, -4.6117e+15, -5.0000e-03, -1.6000e-02,\n",
              "          0.0000e+00,  9.0000e-03, -5.0000e-03, -3.0000e-03, -4.6117e+15,\n",
              "          0.0000e+00,  7.0000e-03,  4.6117e+15,  8.0000e-03, -4.6117e+15,\n",
              "         -4.0000e-03,  0.0000e+00, -4.0000e-03, -4.0000e-03, -2.0000e-03,\n",
              "          4.6117e+15, -2.0000e-02,  1.2000e-02,  1.9000e-02, -4.0000e-03,\n",
              "          2.0000e-03, -9.0000e-03, -9.0000e-03,  4.0000e-03,  0.0000e+00,\n",
              "         -3.0000e-03, -2.1000e-02, -4.6117e+15, -2.0000e-03,  5.0000e-03,\n",
              "          6.0000e-03,  5.0000e-03, -7.0000e-03, -2.0000e-03, -9.0000e-03,\n",
              "          5.0000e-03,  5.0000e-03, -7.0000e-03,  0.0000e+00,  1.9000e-02,\n",
              "          4.6117e+15,  4.0000e-03,  2.0000e-03,  3.0000e-03,  2.6000e-02,\n",
              "         -1.0000e-02,  2.0000e-03, -3.0000e-03, -4.6117e+15, -7.0000e-03,\n",
              "         -7.0000e-03,  4.6117e+15, -7.0000e-03,  5.0000e-03,  4.6117e+15,\n",
              "          4.6117e+15, -2.0000e-03,  1.7000e-02,  9.0000e-03,  9.0000e-03,\n",
              "         -4.6117e+15,  1.7000e-02, -3.0000e-03,  4.6117e+15,  2.0000e-03,\n",
              "         -1.0000e-02, -1.3000e-02,  1.2000e-02, -4.6117e+15, -1.5000e-02,\n",
              "         -5.0000e-03,  4.6117e+15,  1.0000e-03, -4.6117e+15,  4.6117e+15,\n",
              "          4.6117e+15, -1.0000e-03, -4.6117e+15, -1.5000e-02, -4.6117e+15,\n",
              "         -8.0000e-03,  4.6117e+15,  0.0000e+00, -4.6117e+15, -4.6117e+15,\n",
              "          4.6117e+15, -1.2000e-02,  3.0000e-03,  1.3000e-02,  9.0000e-03,\n",
              "          1.0000e-02, -4.6117e+15,  5.0000e-03, -8.0000e-03,  3.0000e-03,\n",
              "         -2.0000e-03,  1.0000e-02, -2.0000e-03,  6.0000e-03,  4.6117e+15,\n",
              "         -4.6117e+15, -7.0000e-03, -1.2000e-02, -2.1000e-02,  8.0000e-03,\n",
              "          6.0000e-03, -7.0000e-03,  1.1000e-02, -4.6117e+15, -4.6117e+15,\n",
              "          4.6117e+15,  1.7000e-02,  4.0000e-03, -1.0000e-03, -4.6117e+15,\n",
              "          4.6117e+15, -4.6117e+15, -9.0000e-03, -2.9000e-02, -4.6117e+15,\n",
              "          4.6117e+15,  3.0000e-03,  1.2000e-02, -1.0000e-03,  0.0000e+00,\n",
              "         -4.6117e+15, -1.7000e-02, -2.0000e-03, -4.6117e+15, -4.6117e+15,\n",
              "          3.0000e-03, -4.6117e+15,  2.0000e-02,  4.6117e+15, -4.6117e+15,\n",
              "         -1.0000e-02, -2.5000e-02,  1.0000e-03, -1.0000e-02, -1.3000e-02]),\n",
              " 'fc1.weight': tensor([[ 4.6117e+15, -4.6117e+15,  2.1000e-02,  ...,  3.0000e-03,\n",
              "          -1.5000e-02,  4.6117e+15],\n",
              "         [ 4.6117e+15, -1.5000e-02,  2.8000e-02,  ...,  4.6117e+15,\n",
              "          -6.0000e-03,  1.5000e-02],\n",
              "         [-4.0000e-03, -4.6117e+15,  6.0000e-03,  ...,  4.6117e+15,\n",
              "          -1.0000e-02,  4.6117e+15],\n",
              "         ...,\n",
              "         [ 9.0000e-03, -1.0000e-03, -4.6117e+15,  ...,  4.6117e+15,\n",
              "           5.0000e-03, -1.0000e-03],\n",
              "         [ 0.0000e+00, -1.7000e-02, -9.0000e-03,  ..., -4.6117e+15,\n",
              "           4.6117e+15,  5.0000e-03],\n",
              "         [ 8.0000e-03,  3.0000e-03,  2.1000e-02,  ...,  1.7000e-02,\n",
              "           4.6117e+15,  2.0000e-03]]),\n",
              " 'fc2.bias': tensor([ 4.0000e-03, -4.6117e+15, -1.9000e-02, -5.0000e-03, -4.6117e+15,\n",
              "          1.0000e-03,  7.0000e-03, -4.6117e+15,  2.2000e-02, -2.0000e-03]),\n",
              " 'fc2.weight': tensor([[ 2.5000e-02,  4.6117e+15,  7.0000e-03,  ..., -1.0000e-03,\n",
              "           4.0000e-03,  1.0000e-03],\n",
              "         [ 1.9000e-02, -3.3000e-02, -1.0000e-02,  ..., -3.9000e-02,\n",
              "          -1.0000e-03,  0.0000e+00],\n",
              "         [-1.0000e-03,  2.0000e-03, -3.1000e-02,  ..., -3.2000e-02,\n",
              "          -1.8000e-02,  2.4000e-02],\n",
              "         ...,\n",
              "         [ 1.4000e-02,  1.8000e-02,  1.2000e-02,  ..., -4.6117e+15,\n",
              "          -4.6117e+15, -4.6117e+15],\n",
              "         [-7.0000e-03, -6.0000e-03, -5.0000e-03,  ...,  4.6117e+15,\n",
              "          -4.6117e+15,  1.1000e-02],\n",
              "         [-4.6117e+15,  2.4000e-02, -4.6117e+15,  ...,  4.5000e-02,\n",
              "          -2.4000e-02, -5.0000e-03]])}"
            ]
          },
          "metadata": {},
          "execution_count": 53
        }
      ]
    },
    {
      "cell_type": "code",
      "source": [
        ""
      ],
      "metadata": {
        "id": "zXJ8YC_LYT9R"
      },
      "execution_count": null,
      "outputs": []
    }
  ]
}